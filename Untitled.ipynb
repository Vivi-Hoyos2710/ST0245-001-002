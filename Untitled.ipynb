{
 "cells": [
  {
   "cell_type": "markdown",
   "source": [
    "* analizar imagenes "
   ],
   "metadata": {}
  },
  {
   "cell_type": "code",
   "execution_count": null,
   "source": [
    "import os\r\n",
    "import numpy as np\r\n",
    "import matplotlib.pyplot as plt\r\n",
    "from scipy.ndimage.filters import convolve"
   ],
   "outputs": [],
   "metadata": {}
  },
  {
   "cell_type": "code",
   "execution_count": null,
   "source": [
    "def cargar(directorio,imagen,formato):\r\n",
    "    print(\"cargando \"+imagen+\"como formato \"+formato)\r\n",
    "    reader = open(directorio+imagen, 'r')\r\n",
    "    Numpy=np.loadtxt(reader, delimiter=\",\")\r\n",
    "    return Numpy"
   ],
   "outputs": [],
   "metadata": {}
  },
  {
   "cell_type": "code",
   "execution_count": null,
   "source": [
    "directorio = 'C:/Users/pablo/Documents/GitHub/ST0245-001-002/codigo/datasets/csv/enfermo_csv/'\r\n",
    "\r\n",
    "lista_imagenes = os.listdir(directorio)\r\n",
    "\r\n",
    "for imagen in lista_imagenes:\r\n",
    "    matriz_imagen=cargar(directorio,imagen,'csv')\r\n",
    "\r\n",
    "directorio = 'C:/Users/pablo/Documents/GitHub/ST0245-001-002/codigo/datasets/csv/sano_csv/'\r\n",
    "\r\n",
    "lista_imagenes = os.listdir(directorio)\r\n",
    "\r\n",
    "for imagen in lista_imagenes:\r\n",
    "    matriz_imagen2=cargar(directorio,imagen,'csv')"
   ],
   "outputs": [],
   "metadata": {}
  },
  {
   "cell_type": "code",
   "execution_count": null,
   "source": [
    "\r\n",
    "directorio = \"C:/Users/Vivi/OneDrive - Universidad EAFIT/Documentos/GitHub/ST0245-001-002/codigo/datasets/csv/enfermo_csv/\"\r\n",
    "\r\n",
    "lista_imagenes = os.listdir(directorio)\r\n",
    "\r\n",
    "#for imagen in lista_imagenes:\r\n",
    "    #matriz_imagen = cargar(directorio, imagen, \"csv\")\r\n",
    "for i in range(4):\r\n",
    "    matriz_imagen = cargar(directorio, lista_imagenes[i],\"csv\")\r\n",
    "    plt.figure(figsize = (10, 10))\r\n",
    "    plt.grid(\"off\")\r\n",
    "    plt.axis(\"off\")\r\n",
    "    plt.imshow(matriz_imagen, cmap = \"gray\", vmin = 0, vmax = 255)\r\n",
    "    plt.show()"
   ],
   "outputs": [],
   "metadata": {}
  },
  {
   "cell_type": "code",
   "execution_count": null,
   "source": [
    "def calculo_energia(imagen):\r\n",
    "    filtro_horizontal=np.array([[1,2,1],[0,0,0],[-1,-2,-1]])\r\n",
    "    filtro_vertical=np.array([[1,0,-1],[2,0,-2],[1,0,-1]])\r\n",
    "    operacion_convolucion=np.absolute(convolve(imagen,filtro_horizontal))+np.absolute(convolve(imagen,filtro_vertical)) #Esta operacion nos devuelve un mapa de energia para matrices con valores en escala de grises.\r\n",
    "    return operacion_convolucion\r\n"
   ],
   "outputs": [],
   "metadata": {}
  },
  {
   "cell_type": "markdown",
   "source": [
    "*Ahora vamos a probar La funcion para crear el mapa de energia de las 4 imágenes anteriores."
   ],
   "metadata": {}
  },
  {
   "cell_type": "code",
   "execution_count": null,
   "source": [
    "\r\n",
    "directorio = \"C:/Users/Vivi/OneDrive - Universidad EAFIT/Documentos/GitHub/ST0245-001-002/codigo/datasets/csv/enfermo_csv/\"\r\n",
    "\r\n",
    "lista_imagenes = os.listdir(directorio)\r\n",
    "\r\n",
    "#for imagen in lista_imagenes:\r\n",
    "    #matriz_imagen = cargar(directorio, imagen, \"csv\")\r\n",
    "for i in range(4):\r\n",
    "    matriz_imagen = cargar(directorio, lista_imagenes[i],\"csv\")\r\n",
    "    plt.figure(figsize = (10, 10))\r\n",
    "    plt.grid(\"off\")\r\n",
    "    plt.axis(\"off\")\r\n",
    "    plt.imshow(calculo_energia(matriz_imagen), cmap = \"gray\", vmin = 0, vmax = 255)\r\n",
    "    plt.show()"
   ],
   "outputs": [],
   "metadata": {}
  }
 ],
 "metadata": {
  "interpreter": {
   "hash": "77251e9277e5de333736ec552194cd0eecbec3aed0ae21539ea406240e60959f"
  },
  "kernelspec": {
   "name": "python3",
   "display_name": "Python 3.9.7 64-bit"
  },
  "language_info": {
   "codemirror_mode": {
    "name": "ipython",
    "version": 3
   },
   "file_extension": ".py",
   "mimetype": "text/x-python",
   "name": "python",
   "nbconvert_exporter": "python",
   "pygments_lexer": "ipython3",
   "version": "3.9.7"
  }
 },
 "nbformat": 4,
 "nbformat_minor": 5
}