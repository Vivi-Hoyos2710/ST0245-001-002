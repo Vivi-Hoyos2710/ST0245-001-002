{
 "cells": [
  {
   "cell_type": "markdown",
   "id": "8ef852f5",
   "metadata": {},
   "source": [
    "* analisar imagenes "
   ]
  },
  {
   "cell_type": "code",
   "execution_count": null,
   "id": "8e328964",
   "metadata": {},
   "outputs": [],
   "source": [
    "import os\n",
    "import numpy as np\n",
    "import matplotlib.pyplot as plt\n"
   ]
  },
  {
   "cell_type": "code",
   "execution_count": null,
   "id": "648c80dc",
   "metadata": {},
   "outputs": [],
   "source": [
    "def cargar(directorio,imagen,formato):\n",
    "    print(\"cargando \"+imagen+\"como formato \"+formato)\n",
    "    reader = open(directorio+imagen, 'r')\n",
    "    Numpy=np.loadtxt(reader, delimiter=\",\",dtype = \"uint8\")\n",
    "    return Numpy"
   ]
  },
  {
   "cell_type": "code",
   "execution_count": null,
   "id": "dff181e8",
   "metadata": {},
   "outputs": [],
   "source": [
    "directorio = 'C:/Users/pablo/Documents/GitHub/ST0245-001-002/codigo/datasets/csv/enfermo_csv/'\n",
    "\n",
    "lista_imagenes = os.listdir(directorio)\n",
    "\n",
    "for imagen in lista_imagenes:\n",
    "    matriz_imagen=cargar(directorio,imagen,'csv')\n",
    "\n",
    "directorio = 'C:/Users/pablo/Documents/GitHub/ST0245-001-002/codigo/datasets/csv/sano_csv/'\n",
    "\n",
    "lista_imagenes = os.listdir(directorio)\n",
    "\n",
    "for imagen in lista_imagenes:\n",
    "    matriz_imagen2=cargar(directorio,imagen,'csv')"
   ]
  },
  {
   "cell_type": "code",
   "execution_count": null,
   "id": "77cb2926",
   "metadata": {},
   "outputs": [],
   "source": [
    "\n",
    "directorio = \"C:Users/Vivi/OneDrive - Universidad EAFIT/Documentos/GitHub/ST0245-001-002/codigo/datasets/csv/enfermo_csv\"\n",
    "\n",
    "lista_imagenes = os.listdir(directorio)\n",
    "\n",
    "#for imagen in lista_imagenes:\n",
    "    #matriz_imagen = cargar(directorio, imagen, \"csv\")\n",
    "for i in range(4):\n",
    "    matriz_imagen = cargar(directorio, lista_imagenes[i],\"csv\")\n",
    "    plt.figure(figsize = (10, 10))\n",
    "    plt.grid(\"off\")\n",
    "    plt.axis(\"off\")\n",
    "    plt.imshow(matriz_imagen, cmap = \"gray\", vmin = 0, vmax = 255)\n",
    "    plt.show()"
   ]
  }
 ],
 "metadata": {
  "interpreter": {
   "hash": "45beaf1bbaf1f4539db6cc65708e9bc09be995c5454858dbd2322c7e6d854a88"
  },
  "kernelspec": {
   "display_name": "Python 3",
   "language": "python",
   "name": "python3"
  },
  "language_info": {
   "codemirror_mode": {
    "name": "ipython",
    "version": 3
   },
   "file_extension": ".py",
   "mimetype": "text/x-python",
   "name": "python",
   "nbconvert_exporter": "python",
   "pygments_lexer": "ipython3",
   "version": "3.8.8"
  }
 },
 "nbformat": 4,
 "nbformat_minor": 5
}
